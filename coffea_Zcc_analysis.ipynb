{
 "cells": [
  {
   "cell_type": "code",
   "execution_count": 1,
   "id": "1da442a9-59df-4122-9c3f-4220d8bff1be",
   "metadata": {},
   "outputs": [],
   "source": [
    "from pathlib import Path\n",
    "\n",
    "from matplotlib import pyplot as plt\n",
    "import awkward as ak\n",
    "import dask\n",
    "from hist.dask import Hist\n",
    "from coffea.nanoevents import NanoEventsFactory, PHYSLITESchema, BaseSchema\n",
    "from coffea.analysis_tools import PackedSelection\n",
    "import mplhep\n",
    "import uproot\n",
    "import coffea.nanoevents\n",
    "\n",
    "PHYSLITESchema.warn_missing_crossrefs = False"
   ]
  },
  {
   "cell_type": "code",
   "execution_count": 2,
   "id": "47d4fbaf-46ab-4ce9-a6e4-724b54fc133a",
   "metadata": {},
   "outputs": [
    {
     "name": "stdout",
     "output_type": "stream",
     "text": [
      "# numpy: v1.24.3\n",
      "# awkward: v2.6.7\n",
      "# uproot: v5.3.10\n",
      "# coffea: v2024.8.0\n",
      "# dask: v2023.5.0\n"
     ]
    }
   ],
   "source": [
    "from importlib.metadata import version\n",
    "\n",
    "for package in [\"numpy\", \"awkward\", \"uproot\", \"coffea\", \"dask\"]:\n",
    "    print(f\"# {package}: v{version(package)}\")"
   ]
  },
  {
   "cell_type": "code",
   "execution_count": 3,
   "id": "b92314fd-911c-43c5-a642-9ef3f6e4e577",
   "metadata": {},
   "outputs": [],
   "source": [
    "# s3df file path\n",
    "#file_path = \"/fs/ddn/sdf/group/ldmx/users/dongyi/Higgs/evttree-mc23_13p6TeV.801169.Py8EG_A14NNPDF23LO_jj_JZ4.deriv.DAOD_PHYS.e8514_s4159_r14799_p5855.root\"\n",
    "# uchicago file path\n",
    "file_path = \"/data/dliu64/Higgs_analysis/evttree-mc23_13p6TeV.801169.Py8EG_A14NNPDF23LO_jj_JZ4.deriv.DAOD_PHYS.e8514_s4159_r14799_p5855.root\"\n",
    "file_path=f\"{file_path}{':evttree'}\""
   ]
  },
  {
   "cell_type": "code",
   "execution_count": 4,
   "id": "a5ca2ff3-1cc3-45ab-a86f-5e7eaf4f1b33",
   "metadata": {},
   "outputs": [],
   "source": [
    "def filter_name(name):\n",
    "    return name in [\n",
    "        'fatJetGN2XHbb', 'fatJetGN2XHcc', \n",
    "        'fatJetGN2XQCD', 'fatJetPt',\n",
    "        'fatJetPx', 'fatJetPy',\n",
    "        'fatJetPz', 'fatJetE',\n",
    "        'fatJetM', 'fatJetNCHadrons', \n",
    "        'fatJetNBHadrons', 'vrJetIdFatJet', \n",
    "        'vrJetHadronGhostTruthLabelID', 'vrJetPt', \n",
    "        'vrJetM', 'eventMCWeight'\n",
    "    ]"
   ]
  },
  {
   "cell_type": "code",
   "execution_count": 5,
   "id": "6b11786c-2420-461c-bb24-1159df5bf21f",
   "metadata": {},
   "outputs": [],
   "source": [
    "events = NanoEventsFactory.from_root(\n",
    "    file_path,\n",
    "    schemaclass=BaseSchema,\n",
    "    uproot_options=dict(filter_name=filter_name),\n",
    "    delayed=True,\n",
    ").events()"
   ]
  },
  {
   "cell_type": "code",
   "execution_count": 65,
   "id": "f07ad9d4-e09d-44fb-a3b4-4b0fde7e8a5f",
   "metadata": {},
   "outputs": [
    {
     "name": "stdout",
     "output_type": "stream",
     "text": [
      "The maximum number of fatjets is 7\n",
      "The number of events with 1 fatjet(s) is 473620, fraction is 11.6%\n",
      "The number of events with 2 fatjet(s) is 3190476, fraction is 78.2%\n",
      "The number of events with 3 fatjet(s) is 376796, fraction is 9.2%\n",
      "The number of events with 4 fatjet(s) is 24284, fraction is 0.6%\n",
      "The number of events with 5 fatjet(s) is 1180, fraction is 0.0%\n",
      "The number of events with 6 fatjet(s) is 43, fraction is 0.0%\n",
      "The number of events with 7 fatjet(s) is 2, fraction is 0.0%\n"
     ]
    }
   ],
   "source": [
    "fatjetpt = events.fatJetPt.compute()\n",
    "N_tot = len(events.compute())\n",
    "N_max_fatjet = ak.max(ak.num(fatjetpt))\n",
    "print('The maximum number of fatjets is %i'%N_max_fatjet)\n",
    "for i in range(N_max_fatjet):\n",
    "    print('The number of events with %i fatjet(s) is %i, fraction is %.1f%%'%(i+1, len(fatjetpt[ak.num(fatjetpt)==i+1]), len(fatjetpt[ak.num(fatjetpt)==i+1])/N_tot*100))"
   ]
  },
  {
   "cell_type": "code",
   "execution_count": 58,
   "id": "c2b52602-5b8b-400e-8b0c-fa84cbbfe4ef",
   "metadata": {},
   "outputs": [
    {
     "data": {
      "text/html": [
       "<pre>[[0, 0, 0, 0, 0, 1, 1, 1, 1, 1, 2, 2, 3, 3, 3, 4, 4, 4, 5, 5, 6],\n",
       " [0, 0, 1, 1, 2, 2, 2, 3, 4, 4, 5, 5, 6]]\n",
       "---------------------------------------------------------------------------------------------------------\n",
       "type: 2 * [var * int32[parameters={&quot;__doc__&quot;: &quot;vrJetIdFatJet&quot;}], parameters={&quot;__doc__&quot;: &quot;vrJetIdFatJet&quot;}]</pre>"
      ],
      "text/plain": [
       "<Array [[0, 0, 0, 0, 0, ..., 4, 5, 5, 6], ...] type='2 * [var * int32[param...'>"
      ]
     },
     "execution_count": 58,
     "metadata": {},
     "output_type": "execute_result"
    }
   ],
   "source": [
    "vrjet = events.vrJetIdFatJet.compute()\n",
    "vrjet[ak.num(vrjet[vrjet==6])>0]"
   ]
  },
  {
   "cell_type": "code",
   "execution_count": 6,
   "id": "24cc1e1b-ed3d-4c12-a326-34569af54c9e",
   "metadata": {},
   "outputs": [
    {
     "data": {
      "text/html": [
       "<pre>[[6.65, 375, 12.1, 314],\n",
       " [214, 18.5, 4.57, 11.6, 14.7, 358],\n",
       " [36, 66.1, 10.8, 131],\n",
       " [7.74, 10, 239, 4.49, 6.36, 204],\n",
       " [55.5, 161, 252, 9.27, 377],\n",
       " [4.01, 76.9, 162, 23.9, 172],\n",
       " [28.6, 4.93, 215],\n",
       " [68.7, 277],\n",
       " [58.1, 237, 11.9, 13.6, 115, 160],\n",
       " [12.7, 302, 28.8, 5.14, 308],\n",
       " ...,\n",
       " [36.2, 189, 9.35, 226],\n",
       " [4.43, 24.1, 372, 8.45, 135],\n",
       " [17, 206, 22.2, 9.56, 166],\n",
       " [12.7, 240, 5.72, 284],\n",
       " [13.2, 35.5, 80.1],\n",
       " [9.38, 84.1, 214, 32.6, 278],\n",
       " [4.56, 21.3, 136, 46.5, 6.29, 111],\n",
       " [53, 7.61, 198, 4.26, 65, 147],\n",
       " [4.48, 15.1, 199, 4.27, 4.82, 138]]\n",
       "-----------------------------------------------------------------------------------------------------\n",
       "type: 4078050 * [var * float32[parameters={&quot;__doc__&quot;: &quot;vrJetPt&quot;}], parameters={&quot;__doc__&quot;: &quot;vrJetPt&quot;}]</pre>"
      ],
      "text/plain": [
       "<Array [[6.65, 375, 12.1, 314], ..., [...]] type='4078050 * [var * float32[...'>"
      ]
     },
     "execution_count": 6,
     "metadata": {},
     "output_type": "execute_result"
    }
   ],
   "source": [
    "vrjetpt = events.vrJetPt.compute()\n",
    "vrjetpt"
   ]
  },
  {
   "cell_type": "code",
   "execution_count": 41,
   "id": "cabaec35-2bd4-425a-8ba3-16653a9e1a3b",
   "metadata": {},
   "outputs": [
    {
     "name": "stdout",
     "output_type": "stream",
     "text": [
      "total event number is 4078050,\n",
      "single fatjet events are 473620, 11.614%,\n",
      "double fatjets events are 3190476, 78.235%,\n",
      "multi fatjets events are 402305, 9.865%\n"
     ]
    }
   ],
   "source": [
    "selection_2fatjet = ak.num(fatjetpt, axis=-1) == 2\n",
    "selection_1fatjet = ak.num(fatjetpt, axis=-1) == 1\n",
    "selection_multi_fatjet = ak.num(fatjetpt, axis=-1) > 2\n",
    "event_1fatjet = events[selection_1fatjet].compute()\n",
    "event_2fatjet = events[selection_2fatjet].compute()\n",
    "event_multi_fatjet = events[selection_multi_fatjet].compute()\n",
    "tot_N = len(events.compute())\n",
    "single_N = len(event_1fatjet)\n",
    "double_N = len(event_2fatjet)\n",
    "multi_N = len(event_multi_fatjet)\n",
    "print('total event number is %i,\\nsingle fatjet events are %i, %.3f%%,\\ndouble fatjets events are %i, %.3f%%,\\nmulti fatjets events are %i, %.3f%%'\\\n",
    "      %(tot_N, single_N, single_N/tot_N*100, double_N, double_N/tot_N*100, multi_N, multi_N/tot_N*100))"
   ]
  },
  {
   "cell_type": "code",
   "execution_count": 38,
   "id": "e9d54098-10c3-4744-928a-379988ae0453",
   "metadata": {},
   "outputs": [
    {
     "name": "stdout",
     "output_type": "stream",
     "text": [
      "The range of leading fatjet pT is from 200.7 to 1520.8 GeV\n",
      "The range of subleading fatjet pT is from 200.0 to 1406.8 GeV\n"
     ]
    },
    {
     "data": {
      "text/plain": [
       "<matplotlib.legend.Legend at 0x7fb84c4c09a0>"
      ]
     },
     "execution_count": 38,
     "metadata": {},
     "output_type": "execute_result"
    },
    {
     "data": {
      "image/png": "[encoded data removed]",
      "text/plain": [
       "<Figure size 640x480 with 1 Axes>"
      ]
     },
     "metadata": {},
     "output_type": "display_data"
    }
   ],
   "source": [
    "pT_leading_fatjet = events.fatJetPt[selection_2fatjet][:,0].compute()\n",
    "pT_subleading_fatjet = events.fatJetPt[selection_2fatjet][:,1].compute()\n",
    "print('The range of leading fatjet pT is from %.1f to %.1f GeV'%(ak.min(pT_leading_fatjet),ak.max(pT_leading_fatjet)))\n",
    "print('The range of subleading fatjet pT is from %.1f to %.1f GeV'%(ak.min(pT_subleading_fatjet),ak.max(pT_subleading_fatjet)))\n",
    "\n",
    "plt.hist(pT_leading_fatjet, bins=50, range=(200, 1000), label='leading fatjet')\n",
    "plt.hist(pT_subleading_fatjet, bins=50, range=(200, 1000), alpha=.5, label='subleading fatjet')\n",
    "plt.xlabel(r\"fatjet pT (GeV)\")\n",
    "plt.ylabel(\"Events\")\n",
    "plt.legend()"
   ]
  },
  {
   "cell_type": "code",
   "execution_count": 35,
   "id": "c8e4e50c-d526-4eaa-94df-5cd7710c4201",
   "metadata": {},
   "outputs": [
    {
     "name": "stdout",
     "output_type": "stream",
     "text": [
      "The range of leading fatjet mass is from -0.0 to 866.3 GeV\n",
      "The range of subleading fatjet mass is from -0.0 to 683.3 GeV\n"
     ]
    },
    {
     "data": {
      "text/plain": [
       "<matplotlib.legend.Legend at 0x7fb88c0c2fd0>"
      ]
     },
     "execution_count": 35,
     "metadata": {},
     "output_type": "execute_result"
    },
    {
     "data": {
      "image/png": "[encoded data removed]",
      "text/plain": [
       "<Figure size 640x480 with 1 Axes>"
      ]
     },
     "metadata": {},
     "output_type": "display_data"
    }
   ],
   "source": [
    "mass_leading_fatjet = events.fatJetM[selection_2fatjet][:,0].compute()\n",
    "mass_subleading_fatjet = events.fatJetM[selection_2fatjet][:,1].compute()\n",
    "print('The range of leading fatjet mass is from %.1f to %.1f GeV'%(ak.min(mass_leading_fatjet),ak.max(mass_leading_fatjet)))\n",
    "print('The range of subleading fatjet mass is from %.1f to %.1f GeV'%(ak.min(mass_subleading_fatjet),ak.max(mass_subleading_fatjet)))\n",
    "\n",
    "plt.hist(mass_leading_fatjet, bins=50, range=(0, 400), label='leading fatjet')\n",
    "plt.hist(mass_subleading_fatjet, bins=50, range=(0, 400), alpha=.5, label='subleading fatjet')\n",
    "plt.xlabel(r\"fatjet mass (GeV)\")\n",
    "plt.ylabel(\"Events\")\n",
    "plt.legend()"
   ]
  },
  {
   "cell_type": "markdown",
   "id": "1424e996-025c-401e-b7e4-2857b6f12751",
   "metadata": {},
   "source": [
    "# Questions\n",
    "1. How to calculate fatjet pT? Is there any relationship between vrjets pT and fatjet pT?\n",
    "2. Where to get the 4 momentum info? How do convert from (px, py, pz, E) to (phi, eta, pT, m)? Where do those fat jets come from (trigger system?) what's the delta R distribution?\n",
    "3. How to sort awkward array in a more efficient way? vrjetpT are not sorted. How to build a sorted array?\n",
    "4. How to use dash to accelerate coffea? Should I use dash at all if I can apply enough CPU for jupyter notebook?\n",
    "5. How to make sure that leading fatjet do come from Higgs? Why do we only care about leading fatjet?"
   ]
  },
  {
   "cell_type": "code",
   "execution_count": null,
   "id": "4041b330-87b1-411f-b210-c4f7c8d26ceb",
   "metadata": {},
   "outputs": [],
   "source": [
    "dr = events[selection_2fatjet][:, 0].delta_r(events[selection_2fatjet][:, 1])"
   ]
  },
  {
   "cell_type": "code",
   "execution_count": 20,
   "id": "aa5a864f-abf1-4636-9167-5eefcfdb500a",
   "metadata": {},
   "outputs": [
    {
     "name": "stdout",
     "output_type": "stream",
     "text": [
      "3650515\n"
     ]
    },
    {
     "data": {
      "text/html": [
       "<pre>[[9.52, 322, 90.3],\n",
       " [12.6, 72.8, 30.9],\n",
       " [4.22, 280, 27.7],\n",
       " [217, 92.2],\n",
       " [17.7, 277, 140],\n",
       " [36.6, 8.68, 122, 83],\n",
       " [11.6, 29.7, 248, 78],\n",
       " [7.51, 153, 119],\n",
       " [19, 238, 23.5],\n",
       " [40.9, 134, 58.8],\n",
       " ...,\n",
       " [5.14, 176, 97.2],\n",
       " [18.8, 181, 128],\n",
       " [152, 38.4],\n",
       " [8.29, 30.8, 138, 119],\n",
       " [211, 71.4],\n",
       " [329, 6.41],\n",
       " [4.13, 12.7, 205, 85.9],\n",
       " [126, 73.4],\n",
       " [7.56, 139, 45.6]]\n",
       "---------------------------------------------------------------\n",
       "type: 221657 * var * float32[parameters={&quot;__doc__&quot;: &quot;vrJetPt&quot;}]</pre>"
      ],
      "text/plain": [
       "<Array [[9.52, 322, 90.3], ..., [7.56, ...]] type='221657 * var * float32[p...'>"
      ]
     },
     "execution_count": 20,
     "metadata": {},
     "output_type": "execute_result"
    }
   ],
   "source": [
    "vrjet_id_0 = vrjet==0\n",
    "vrjet_id_1 = vrjet==1\n",
    "# pick vrjet whose id is 0\n",
    "vrjetpt_id_0 = vrjetpt[vrjet_id_0]\n",
    "vrjetpt_id_0= vrjetpt_id_0[ak.num(vrjetpt_id_0)>1]\n",
    "print(len(vrjetpt_id_0))\n",
    "# check whether it has been sorted or not\n",
    "vrjetpt_id_0[(vrjetpt_id_0[:,-1] - vrjetpt_id_0[:,-2])>0]\n",
    "#print(len(vrjetpt_id_0[(vrjetpt_id_0[:,-1] - vrjetpt_id_0[:,-2])>0]))\n",
    "#vrjetpt_id_1 = vrjetpt[vrjet_id_1]"
   ]
  },
  {
   "cell_type": "code",
   "execution_count": 51,
   "id": "c63e1dfe-c638-42b8-976e-efe7ac7a953d",
   "metadata": {},
   "outputs": [
    {
     "data": {
      "text/html": [
       "<pre>[[0, 0, 0, 0],\n",
       " [0, 0, 0, 0, 0, 0],\n",
       " [0, 0, 0, 0],\n",
       " [0, 0, 0, 4, 0, 4],\n",
       " [5, 0, 0, 0, 0],\n",
       " [0, 0, 0, 0, 0],\n",
       " [0, 0, 0],\n",
       " [0, 0],\n",
       " [0, 0, 0, 0, 4, 4],\n",
       " [0, 0, 0, 0, 0],\n",
       " ...,\n",
       " [0, 0, 0, 0],\n",
       " [0, 0, 0, 0, 0],\n",
       " [0, 0, 0, 0, 0],\n",
       " [0, 0, 0, 0],\n",
       " [0, 0, 0],\n",
       " [0, 0, 0, 5, 0],\n",
       " [0, 0, 0, 0, 0, 0],\n",
       " [0, 0, 5, 0, 0, 0],\n",
       " [0, 0, 5, 0, 0, 0]]\n",
       "---------------------------------------------------------------------------------------------------------------------------------------------\n",
       "type: 4078050 * [var * int32[parameters={&quot;__doc__&quot;: &quot;vrJetHadronGhostTruthLabelID&quot;}], parameters={&quot;__doc__&quot;: &quot;vrJetHadronGhostTruthLabelID&quot;}]</pre>"
      ],
      "text/plain": [
       "<Array [[0, 0, 0, 0], ..., [0, 0, ..., 0, 0]] type='4078050 * [var * int32[...'>"
      ]
     },
     "execution_count": 51,
     "metadata": {},
     "output_type": "execute_result"
    }
   ],
   "source": [
    "events.vrJetHadronGhostTruthLabelID.compute()"
   ]
  }
 ],
 "metadata": {
  "kernelspec": {
   "display_name": "Python 3 (ipykernel)",
   "language": "python",
   "name": "python3"
  },
  "language_info": {
   "codemirror_mode": {
    "name": "ipython",
    "version": 3
   },
   "file_extension": ".py",
   "mimetype": "text/x-python",
   "name": "python",
   "nbconvert_exporter": "python",
   "pygments_lexer": "ipython3",
   "version": "3.8.10"
  }
 },
 "nbformat": 4,
 "nbformat_minor": 5
}
