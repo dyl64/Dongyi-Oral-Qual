{
 "cells": [
  {
   "cell_type": "markdown",
   "id": "d7e337b7-9eaf-48af-acf5-9c0c7b2f17f2",
   "metadata": {},
   "source": [
    "# Detector"
   ]
  },
  {
   "cell_type": "markdown",
   "id": "a2f24291-779c-4b5f-8d35-45d6a9a90854",
   "metadata": {},
   "source": [
    "## Luminosity"
   ]
  },
  {
   "cell_type": "markdown",
   "id": "7ffb20ad-d819-4e46-bf42-d5c2eeb0f197",
   "metadata": {},
   "source": [
    "### Instantaneous luminosity \n",
    "measures how tightly particles are packed into a given space, such as the LHC's proton beam. A higher luminosity means a greater likelihood particles will collide and result in a desired interaction. This can be achieved by packing more particles in the beam, or by focusing the beam more tightly.\n",
    "\n",
    "### \r\n",
    "Integrated luminosi\n",
    ", on the other hand, considers the total number of events during a period of data-taking. The ATLAS Experiment recorded 147 inverse femtobarns of data during the LHC's 13 TeV run from 2015-2018, which equates to about 16 million billion proton–proton collision\n",
    "\n",
    "[Cross section & Luminosity Cheetsheet](https://cds.cern.ch/record/2800578/files/Cross%20Section%20and%20Luminosity%20Physics%20Cheat%20Sheet.pdf)s!"
   ]
  }
 ],
 "metadata": {
  "kernelspec": {
   "display_name": "Python 3 (ipykernel)",
   "language": "python",
   "name": "python3"
  },
  "language_info": {
   "codemirror_mode": {
    "name": "ipython",
    "version": 3
   },
   "file_extension": ".py",
   "mimetype": "text/x-python",
   "name": "python",
   "nbconvert_exporter": "python",
   "pygments_lexer": "ipython3",
   "version": "3.9.12"
  }
 },
 "nbformat": 4,
 "nbformat_minor": 5
}
