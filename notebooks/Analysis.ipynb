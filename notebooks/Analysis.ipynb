{
 "cells": [
  {
   "cell_type": "code",
   "execution_count": 8,
   "id": "ae30b366-364e-4066-aea5-a914c5f3e573",
   "metadata": {},
   "outputs": [],
   "source": [
    "import sys\n",
    "import jupyter_book"
   ]
  },
  {
   "cell_type": "code",
   "execution_count": 10,
   "id": "1424550d-7155-4593-8728-86e7a49e717d",
   "metadata": {},
   "outputs": [
    {
     "name": "stdout",
     "output_type": "stream",
     "text": [
      "/bin/sh: 1: jupyter-book: not found\n"
     ]
    }
   ],
   "source": [
    "!jupyter-book create mynewbook/"
   ]
  },
  {
   "cell_type": "markdown",
   "id": "2894f7f9-8cb3-4f9c-936b-fe59ab3197d5",
   "metadata": {},
   "source": [
    "# How to do the analysis"
   ]
  },
  {
   "cell_type": "markdown",
   "id": "93df63b9-d752-49d4-a2cb-3527ee16b6a0",
   "metadata": {
    "jp-MarkdownHeadingCollapsed": true,
    "tags": []
   },
   "source": [
    "# Higgs analysis"
   ]
  },
  {
   "cell_type": "markdown",
   "id": "4f558f21-040b-4947-87ad-2f0383ffebb7",
   "metadata": {
    "tags": []
   },
   "source": [
    "### Further reading"
   ]
  },
  {
   "cell_type": "markdown",
   "id": "48dde20f-9ea1-4f68-9548-4e8d37bab873",
   "metadata": {},
   "source": [
    "- [Observation of a new particle in the search for the Standard Model Higgs boson with the ATLAS detector at the LHC](https://arxiv.org/pdf/1207.7214) (First ATLAS paper claiming Higgs observation)\n",
    "- [Nature_profile for Higgs by CMS (This is a general review article for Higgs)](https://www.nature.com/articles/s41586-022-04892-x.pdf) (Recent general review about Higgs, 2022)"
   ]
  },
  {
   "cell_type": "code",
   "execution_count": 2,
   "id": "74d96b29-77fe-4b72-b496-e5f23de8fdd5",
   "metadata": {
    "tags": []
   },
   "outputs": [
    {
     "data": {
      "text/html": [
       "<div>\n",
       "<style scoped>\n",
       "    .dataframe tbody tr th:only-of-type {\n",
       "        vertical-align: middle;\n",
       "    }\n",
       "\n",
       "    .dataframe tbody tr th {\n",
       "        vertical-align: top;\n",
       "    }\n",
       "\n",
       "    .dataframe thead th {\n",
       "        text-align: right;\n",
       "    }\n",
       "</style>\n",
       "<table border=\"1\" class=\"dataframe\">\n",
       "  <thead>\n",
       "    <tr style=\"text-align: right;\">\n",
       "      <th></th>\n",
       "      <th>leading_bb_fatJetM</th>\n",
       "      <th>subleading_bb_fatJetM</th>\n",
       "    </tr>\n",
       "  </thead>\n",
       "  <tbody>\n",
       "    <tr>\n",
       "      <th>0</th>\n",
       "      <td>134.781630</td>\n",
       "      <td>26.847895</td>\n",
       "    </tr>\n",
       "    <tr>\n",
       "      <th>1</th>\n",
       "      <td>358.425570</td>\n",
       "      <td>53.837840</td>\n",
       "    </tr>\n",
       "    <tr>\n",
       "      <th>2</th>\n",
       "      <td>52.268986</td>\n",
       "      <td>195.754070</td>\n",
       "    </tr>\n",
       "    <tr>\n",
       "      <th>3</th>\n",
       "      <td>173.215400</td>\n",
       "      <td>10.358354</td>\n",
       "    </tr>\n",
       "    <tr>\n",
       "      <th>4</th>\n",
       "      <td>53.265903</td>\n",
       "      <td>11.560259</td>\n",
       "    </tr>\n",
       "    <tr>\n",
       "      <th>...</th>\n",
       "      <td>...</td>\n",
       "      <td>...</td>\n",
       "    </tr>\n",
       "    <tr>\n",
       "      <th>48922</th>\n",
       "      <td>52.768513</td>\n",
       "      <td>70.251390</td>\n",
       "    </tr>\n",
       "    <tr>\n",
       "      <th>48923</th>\n",
       "      <td>130.918980</td>\n",
       "      <td>19.064420</td>\n",
       "    </tr>\n",
       "    <tr>\n",
       "      <th>48924</th>\n",
       "      <td>115.473206</td>\n",
       "      <td>43.935677</td>\n",
       "    </tr>\n",
       "    <tr>\n",
       "      <th>48925</th>\n",
       "      <td>195.885180</td>\n",
       "      <td>234.785460</td>\n",
       "    </tr>\n",
       "    <tr>\n",
       "      <th>48926</th>\n",
       "      <td>254.406710</td>\n",
       "      <td>101.015015</td>\n",
       "    </tr>\n",
       "  </tbody>\n",
       "</table>\n",
       "<p>48927 rows × 2 columns</p>\n",
       "</div>"
      ],
      "text/plain": [
       "       leading_bb_fatJetM  subleading_bb_fatJetM\n",
       "0              134.781630              26.847895\n",
       "1              358.425570              53.837840\n",
       "2               52.268986             195.754070\n",
       "3              173.215400              10.358354\n",
       "4               53.265903              11.560259\n",
       "...                   ...                    ...\n",
       "48922           52.768513              70.251390\n",
       "48923          130.918980              19.064420\n",
       "48924          115.473206              43.935677\n",
       "48925          195.885180             234.785460\n",
       "48926          254.406710             101.015015\n",
       "\n",
       "[48927 rows x 2 columns]"
      ]
     },
     "execution_count": 2,
     "metadata": {},
     "output_type": "execute_result"
    }
   ],
   "source": [
    "import pandas as pd\n",
    "keys = ['fatJetM', 'fatJetpT', 'fatJetGN2XHbb', 'fatJetGN2XHcc']\n",
    "flavors = ['bb', 'cc', 'qq']\n",
    "cut = 'bb_cc_qq_bothcut'\n",
    "for key in keys[:1]:\n",
    "    for flavor in flavors[:1]:\n",
    "        df = pd.read_csv(f'../../kinematics_distribution/precut/{flavor}_{key}_distribution_{cut}_bkg.csv')\n",
    "\n",
    "# Display the first few rows of the DataFrame\n",
    "df"
   ]
  },
  {
   "cell_type": "markdown",
   "id": "6c160f8b-f67f-4f76-8b0a-7a3299bddbcf",
   "metadata": {},
   "source": [
    "# Statistics"
   ]
  },
  {
   "cell_type": "markdown",
   "id": "194948c3-750c-4cdd-868f-9f20c1e2fe30",
   "metadata": {},
   "source": [
    "#### Poisson distribution\n",
    "Poisson distribution is the limit of binominal distribution when N->infinity\n",
    "\n",
    "Poisson distribution's expectation value equals its variance [proof](https://statproofbook.github.io/P/poiss-var.html)\n",
    "\n",
    "About likelihood ratio [Asymptotic formulae for likelihood-based tests of new physics (paper recommended by Hava, Jacob, Alex)](https://arxiv.org/pdf/1007.1727)\n",
    "\n",
    "[概率统计博客园](https://www.cnblogs.com/think-and-do/category/956573.html): [t分布、chi2分布](https://www.cnblogs.com/think-and-do/p/6509239.html), [hypothesis testing](https://www.cnblogs.com/think-and-do/p/6515296.html)"
   ]
  },
  {
   "cell_type": "markdown",
   "id": "1e16cbeb-dc83-4e5e-84f8-272690d14d5a",
   "metadata": {},
   "source": [
    "Given the dataset {x1, x2, .., xN}, suppose the likelihood of each data point obeys Gaussian distribution $N(\\mu, \\sigma)$ is given by\n",
    "\n",
    "\\begin{equation}\n",
    "    L(\\mu, \\sigma)=\\prod_{i=1}^N\\frac{1}{\\sqrt{2\\pi\\sigma^2}}e^\\frac{-(x_i-\\mu)^2}{2\\sigma^2}\n",
    "\\end{equation}\n",
    "\n",
    "The $\\mu$ and $\\sigma$ that can maximize $L$ are equivalent to make the first derivative of $L$  zeros.\n",
    "Namely, it's equivalent to know the expression for $\\mu$ and $\\sigma$ that satisfy $\\frac{\\partial L}{\\partial\\mu}=0$ and $\\frac{\\partial L}{\\partial\\sigma}=0$ simultaneously. For simplicity, we calculate the maximum of $lnL(\\mu,\\sigma)$ instead.\n",
    "\n",
    "\\begin{equation}\n",
    "    lnL(\\mu, \\sigma)=\\sum_{i=1}^N\\frac{-(x_i-\\mu)^2}{2\\sigma^2}-Nln\\sigma-\\frac{N}{2}ln(2\\pi)\n",
    "\\end{equation}\n",
    "\n",
    "\\begin{align}\n",
    "    &\\frac{\\partial L}{\\partial\\mu}=\\sum_{i=1}^N\\frac{x_i-\\mu}{\\sigma^2}=0\\\\\n",
    "    &\\frac{\\partial L}{\\partial\\sigma}=\\sum_{i=1}^N\\frac{(x_i-\\mu)^2}{\\sigma^3}-\\frac{N}{\\sigma}=\\frac{\\sum_{i=1}^N(x_i-\\mu)^2-N\\sigma^2}{\\sigma^3}\n",
    "\\end{align}\n",
    "\n",
    "Thus, $\\hat{\\mu}=\\sum_{i=1}^N$, $\\hat{\\sigma}=\\sqrt{\\frac{\\sum_{i=1}^N)(x_i-\\mu)^2}{N}}$ are the corresponding values that can make likelihood maximum. $L(\\hat{\\mu}, \\hat{\\sigma})$ are called the unconditional maximum likelihood."
   ]
  }
 ],
 "metadata": {
  "kernelspec": {
   "display_name": "Python 3 (ipykernel)",
   "language": "python",
   "name": "python3"
  },
  "language_info": {
   "codemirror_mode": {
    "name": "ipython",
    "version": 3
   },
   "file_extension": ".py",
   "mimetype": "text/x-python",
   "name": "python",
   "nbconvert_exporter": "python",
   "pygments_lexer": "ipython3",
   "version": "3.10.14"
  }
 },
 "nbformat": 4,
 "nbformat_minor": 5
}
