{
 "cells": [
  {
   "cell_type": "code",
   "execution_count": 8,
   "id": "ae30b366-364e-4066-aea5-a914c5f3e573",
   "metadata": {},
   "outputs": [],
   "source": [
    "import sys\n",
    "import jupyter_book"
   ]
  },
  {
   "cell_type": "code",
   "execution_count": 10,
   "id": "1424550d-7155-4593-8728-86e7a49e717d",
   "metadata": {},
   "outputs": [
    {
     "name": "stdout",
     "output_type": "stream",
     "text": [
      "/bin/sh: 1: jupyter-book: not found\n"
     ]
    }
   ],
   "source": [
    "!jupyter-book create mynewbook/"
   ]
  },
  {
   "cell_type": "markdown",
   "id": "2894f7f9-8cb3-4f9c-936b-fe59ab3197d5",
   "metadata": {},
   "source": [
    "# How to do the analysis"
   ]
  },
  {
   "cell_type": "markdown",
   "id": "93df63b9-d752-49d4-a2cb-3527ee16b6a0",
   "metadata": {},
   "source": [
    "# Higgs analysis"
   ]
  },
  {
   "cell_type": "markdown",
   "id": "4f558f21-040b-4947-87ad-2f0383ffebb7",
   "metadata": {},
   "source": [
    "### Further reading"
   ]
  },
  {
   "cell_type": "markdown",
   "id": "48dde20f-9ea1-4f68-9548-4e8d37bab873",
   "metadata": {},
   "source": [
    "- [Nature_profile for Higgs by CMS](https://www.nature.com/articles/s41586-022-04892-x.pdf) (Recent general review about Higgs, 2022)"
   ]
  }
 ],
 "metadata": {
  "kernelspec": {
   "display_name": "Python 3 (ipykernel)",
   "language": "python",
   "name": "python3"
  },
  "language_info": {
   "codemirror_mode": {
    "name": "ipython",
    "version": 3
   },
   "file_extension": ".py",
   "mimetype": "text/x-python",
   "name": "python",
   "nbconvert_exporter": "python",
   "pygments_lexer": "ipython3",
   "version": "3.8.10"
  }
 },
 "nbformat": 4,
 "nbformat_minor": 5
}
