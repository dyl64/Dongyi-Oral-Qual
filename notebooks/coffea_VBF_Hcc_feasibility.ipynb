{
 "cells": [
  {
   "cell_type": "markdown",
   "id": "c645f812-da2c-4781-a4bf-5b27da35dd8f",
   "metadata": {},
   "source": [
    "## Import necessary libraries"
   ]
  },
  {
   "cell_type": "code",
   "execution_count": 1,
   "id": "524cde8b-7a43-4034-941c-dd6db451a634",
   "metadata": {},
   "outputs": [],
   "source": [
    "from pathlib import Path\n",
    "import numpy as np\n",
    "\n",
    "from matplotlib import pyplot as plt\n",
    "import awkward as ak\n",
    "import dask\n",
    "from hist.dask import Hist\n",
    "from coffea.nanoevents import NanoEventsFactory, PHYSLITESchema, BaseSchema\n",
    "from coffea.analysis_tools import PackedSelection\n",
    "import mplhep\n",
    "import uproot\n",
    "import coffea.nanoevents\n",
    "\n",
    "PHYSLITESchema.warn_missing_crossrefs = False"
   ]
  },
  {
   "cell_type": "code",
   "execution_count": 2,
   "id": "7e220cc9-04db-4be7-9909-0229a4216150",
   "metadata": {},
   "outputs": [
    {
     "name": "stdout",
     "output_type": "stream",
     "text": [
      "# numpy: v1.24.3\n",
      "# awkward: v2.6.7\n",
      "# uproot: v5.3.10\n",
      "# coffea: v2024.8.0\n",
      "# dask: v2023.5.0\n"
     ]
    }
   ],
   "source": [
    "from importlib.metadata import version\n",
    "\n",
    "for package in [\"numpy\", \"awkward\", \"uproot\", \"coffea\", \"dask\"]:\n",
    "    print(f\"# {package}: v{version(package)}\")"
   ]
  },
  {
   "cell_type": "markdown",
   "id": "97b6e358-1607-4b4e-9899-af4cf5cdb2bb",
   "metadata": {},
   "source": [
    "## Use NanoEventsFactory in coffea to import root file"
   ]
  },
  {
   "cell_type": "code",
   "execution_count": 1,
   "id": "fed018d1-083d-4349-a0d0-ff958d267a0b",
   "metadata": {},
   "outputs": [],
   "source": [
    "def filter_name(name):\n",
    "    return name in [\n",
    "        'VBFjet_maxeta', 'VBFjet_deltaeta', 'SmallRJets_pT', 'SmallRJets_eta', 'met',\n",
    "        'HCand_dEtajj', 'HCand_XccScore', 'HCand_XbbScore','HCand_pT', 'HCand_Eta', 'HCand_M',\n",
    "        'nonHCand_pT', 'nLargeRJets', 'nSmallRJets', 'nonHCand_Eta','passLeptonVeto', \n",
    "        'CMS_subleadJ_pT', 'CMS_leadJ_pT', 'CMS_leadJ_eta', 'CMS_subleadJ_eta', 'CMS_Mjj', 'CMS_deltaEta', 'CMScutv1', 'CMScutv2',\n",
    "        'Jet1_eta', 'Jet2_eta', 'Jet1_M', 'Jet2_M', 'Jet1_pT', 'Jet2_pT', 'Mjj', 'weight'\n",
    "    ]"
   ]
  },
  {
   "cell_type": "code",
   "execution_count": 4,
   "id": "6595fd2d-56f0-417c-aa7f-86871b8e2f2d",
   "metadata": {},
   "outputs": [],
   "source": [
    "samples = [\"ggH\",\"ttbar\",\"VBF\",\"VH\",\"VBFH125_bb\",\"VBFH125_cc\",\"ttH\",\"vjets\"]\n",
    "prepend_path = \"/data/dliu64/Higgs_analysis/Merge_update/\"\n",
    "\n",
    "# Add QCD list\n",
    "QCD_samples = []\n",
    "for i in range(13):\n",
    "    if i!=4:\n",
    "        QCD_samples.append('QCD_%02d'%i)\n",
    "for i in range(1,4):\n",
    "    QCD_samples.append('QCD_04_%d'%i)\n",
    "    \n",
    "# Get rid of the lists that are empty\n",
    "non_empty = np.array([len(uproot.open(prepend_path + sample + '.root').keys())!=0 for sample in QCD_samples])\n",
    "QCD_samples = np.array(QCD_samples)[non_empty]\n",
    "    \n",
    "events_list = [\n",
    "    NanoEventsFactory.from_root(\n",
    "        {prepend_path + sample + '.root': \"Nominal\"},\n",
    "        delayed=True,\n",
    "        schemaclass=BaseSchema,\n",
    "        uproot_options={\"filter_name\": filter_name}\n",
    "    ).events()\n",
    "    for sample in QCD_samples\n",
    "]"
   ]
  },
  {
   "cell_type": "code",
   "execution_count": 203,
   "id": "baa895da-7414-461f-a9b7-f1ef7f08537a",
   "metadata": {},
   "outputs": [
    {
     "data": {
      "text/plain": [
       "12"
      ]
     },
     "execution_count": 203,
     "metadata": {},
     "output_type": "execute_result"
    }
   ],
   "source": [
    "len(events_list)"
   ]
  },
  {
   "cell_type": "markdown",
   "id": "e3c7719d-ab73-4c18-89ba-f2394dd6384d",
   "metadata": {},
   "source": [
    "### Selection Rules\n",
    "[WP for Hcc Tagging](https://xbb-docs.docs.cern.ch/Xbb/GN2_track/#baseline-discriminant-for-xbb-tagging-for-initial-development-in-calibration)"
   ]
  },
  {
   "cell_type": "code",
   "execution_count": 93,
   "id": "053b2c95-40f9-43fb-adfd-3a83a9fd77cb",
   "metadata": {},
   "outputs": [
    {
     "data": {
      "text/html": [
       "<div>\n",
       "<style scoped>\n",
       "    .dataframe tbody tr th:only-of-type {\n",
       "        vertical-align: middle;\n",
       "    }\n",
       "\n",
       "    .dataframe tbody tr th {\n",
       "        vertical-align: top;\n",
       "    }\n",
       "\n",
       "    .dataframe thead th {\n",
       "        text-align: right;\n",
       "    }\n",
       "</style>\n",
       "<table border=\"1\" class=\"dataframe\">\n",
       "  <thead>\n",
       "    <tr style=\"text-align: right;\">\n",
       "      <th></th>\n",
       "      <th></th>\n",
       "    </tr>\n",
       "    <tr>\n",
       "      <th>Work Point</th>\n",
       "      <th>Cut Value on D_GN2_Hcc</th>\n",
       "    </tr>\n",
       "  </thead>\n",
       "  <tbody>\n",
       "    <tr>\n",
       "      <th>10%</th>\n",
       "      <th>4.050</th>\n",
       "    </tr>\n",
       "    <tr>\n",
       "      <th>20%</th>\n",
       "      <th>3.352</th>\n",
       "    </tr>\n",
       "    <tr>\n",
       "      <th>30%</th>\n",
       "      <th>2.810</th>\n",
       "    </tr>\n",
       "    <tr>\n",
       "      <th>40%</th>\n",
       "      <th>2.319</th>\n",
       "    </tr>\n",
       "    <tr>\n",
       "      <th>50%</th>\n",
       "      <th>1.851</th>\n",
       "    </tr>\n",
       "    <tr>\n",
       "      <th>60%</th>\n",
       "      <th>1.370</th>\n",
       "    </tr>\n",
       "  </tbody>\n",
       "</table>\n",
       "</div>"
      ],
      "text/plain": [
       "Empty DataFrame\n",
       "Columns: []\n",
       "Index: [(10%, 4.05), (20%, 3.352), (30%, 2.81), (40%, 2.319), (50%, 1.851), (60%, 1.37)]"
      ]
     },
     "execution_count": 93,
     "metadata": {},
     "output_type": "execute_result"
    }
   ],
   "source": [
    "import pandas as pd\n",
    "WP = np.arange(10, 70, 10)\n",
    "WP.astype(str)\n",
    "WP = [item+'%' for item in WP.astype(str)]\n",
    "D_GN2_Hcc_cut = [4.050, 3.352, 2.810, 2.319, 1.851, 1.370]\n",
    "\n",
    "df = pd.DataFrame({\n",
    "    \"Work Point\": WP,\n",
    "    \"Cut Value on D_GN2_Hcc\": D_GN2_Hcc_cut}\n",
    ")\n",
    "df.set_index(['Work Point', \"Cut Value on D_GN2_Hcc\"], inplace=True)\n",
    "\n",
    "df"
   ]
  },
  {
   "cell_type": "code",
   "execution_count": 183,
   "id": "75d726c4-00af-4e96-a3cc-1002c3a3210a",
   "metadata": {},
   "outputs": [
    {
     "name": "stdout",
     "output_type": "stream",
     "text": [
      "[{'inclusive': 23011, 'inclusive+CMScut': 795, 'inclusive+CMScut+met_upper': 718, 'inclusive+CMScut+met_lower': 176, 'inclusive+CMScut+met': 99, 'inclusive+CMScut+met+HCand_M_upper': 75, 'inclusive+CMScut+met+HCand_M_lower': 66, 'inclusive+CMScut+met+HCand_M': 42, 'inclusive+CMScut+met+HCand_M+HCand_Xcc_WP10%': 0, 'inclusive+CMScut+met+HCand_M+HCand_Xcc_WP20%': 0, 'inclusive+CMScut+met+HCand_M+HCand_Xcc_WP30%': 0, 'inclusive+CMScut+met+HCand_M+HCand_Xcc_WP40%': 1, 'inclusive+CMScut+met+HCand_M+HCand_Xcc_WP50%': 1, 'inclusive+CMScut+met+HCand_M+HCand_Xcc_WP60%': 3}, {'inclusive': 1508794, 'inclusive+CMScut': 34773, 'inclusive+CMScut+met_upper': 27851, 'inclusive+CMScut+met_lower': 12324, 'inclusive+CMScut+met': 5402, 'inclusive+CMScut+met+HCand_M_upper': 2128, 'inclusive+CMScut+met+HCand_M_lower': 4055, 'inclusive+CMScut+met+HCand_M': 781, 'inclusive+CMScut+met+HCand_M+HCand_Xcc_WP10%': 3, 'inclusive+CMScut+met+HCand_M+HCand_Xcc_WP20%': 3, 'inclusive+CMScut+met+HCand_M+HCand_Xcc_WP30%': 7, 'inclusive+CMScut+met+HCand_M+HCand_Xcc_WP40%': 15, 'inclusive+CMScut+met+HCand_M+HCand_Xcc_WP50%': 30, 'inclusive+CMScut+met+HCand_M+HCand_Xcc_WP60%': 47}]\n",
      "Events passing 'inclusive': 23011\n",
      "Events passing 'inclusive+CMScut': 795\n",
      "Events passing 'inclusive+CMScut+met_upper': 718\n",
      "Events passing 'inclusive+CMScut+met_lower': 176\n",
      "Events passing 'inclusive+CMScut+met': 99\n",
      "Events passing 'inclusive+CMScut+met+HCand_M_upper': 75\n",
      "Events passing 'inclusive+CMScut+met+HCand_M_lower': 66\n",
      "Events passing 'inclusive+CMScut+met+HCand_M': 42\n",
      "Events passing 'inclusive+CMScut+met+HCand_M+HCand_Xcc_WP10%': 0\n",
      "Events passing 'inclusive+CMScut+met+HCand_M+HCand_Xcc_WP20%': 0\n",
      "Events passing 'inclusive+CMScut+met+HCand_M+HCand_Xcc_WP30%': 0\n",
      "Events passing 'inclusive+CMScut+met+HCand_M+HCand_Xcc_WP40%': 1\n",
      "Events passing 'inclusive+CMScut+met+HCand_M+HCand_Xcc_WP50%': 1\n",
      "Events passing 'inclusive+CMScut+met+HCand_M+HCand_Xcc_WP60%': 3\n",
      "Events passing 'inclusive': 1508794\n",
      "Events passing 'inclusive+CMScut': 34773\n",
      "Events passing 'inclusive+CMScut+met_upper': 27851\n",
      "Events passing 'inclusive+CMScut+met_lower': 12324\n",
      "Events passing 'inclusive+CMScut+met': 5402\n",
      "Events passing 'inclusive+CMScut+met+HCand_M_upper': 2128\n",
      "Events passing 'inclusive+CMScut+met+HCand_M_lower': 4055\n",
      "Events passing 'inclusive+CMScut+met+HCand_M': 781\n",
      "Events passing 'inclusive+CMScut+met+HCand_M+HCand_Xcc_WP10%': 3\n",
      "Events passing 'inclusive+CMScut+met+HCand_M+HCand_Xcc_WP20%': 3\n",
      "Events passing 'inclusive+CMScut+met+HCand_M+HCand_Xcc_WP30%': 7\n",
      "Events passing 'inclusive+CMScut+met+HCand_M+HCand_Xcc_WP40%': 15\n",
      "Events passing 'inclusive+CMScut+met+HCand_M+HCand_Xcc_WP50%': 30\n",
      "Events passing 'inclusive+CMScut+met+HCand_M+HCand_Xcc_WP60%': 47\n"
     ]
    }
   ],
   "source": [
    "cut_result=[]\n",
    "for events in events_list[:2]:\n",
    "    cut_result.append(results_taskgraph(events))\n",
    "\n",
    "print(cut_result)\n",
    "for cut_results in cut_result:\n",
    "    for cut, n_events in cut_results.items():\n",
    "        print(f\"Events passing '{cut}': {n_events}\")"
   ]
  },
  {
   "cell_type": "code",
   "execution_count": 71,
   "id": "b5c0f5e4-02df-4547-a128-74cb0a28f717",
   "metadata": {},
   "outputs": [],
   "source": [
    "Nevent=[]\n",
    "for events in events_list[:3]:\n",
    "    selection1 = PackedSelection()\n",
    "    D_GN2_Hcc_cut = [4.050, 3.352, 2.810, 2.319, 1.851, 1.370]\n",
    "    WP = np.arange(10, 70, 10)\n",
    "    WP.astype(str)\n",
    "    WP = [item+'%' for item in WP.astype(str)]\n",
    "    \n",
    "    inclusive = (events.Jet1_pT > 450) & (events.Jet1_M > 40) & (events.passLeptonVeto == True)\n",
    "    cut1 = inclusive & (events.CMScutv2 == True) \n",
    "    cut2 = cut1 & (events.met < 140)\n",
    "    cut3 = cut1 & (events.met > 100)\n",
    "    cut4 = cut1 & (events.met < 140) & (events.met > 100)\n",
    "    cut5 = cut4 & (events.HCand_M < 140)\n",
    "    cut6 = cut4 & (events.HCand_M > 100)\n",
    "    cut7 = cut4 & (events.HCand_M < 140) & (events.HCand_M > 100)\n",
    "\n",
    "    cuts = [inclusive, cut1, cut2, cut3, cut4, cut5, cut6, cut7]\n",
    "    #cut_name = ['inclusive', 'inclusive+CMScutv2', 'inclusive+CMScutv2+met<140', 'inclusive+CMScutv2+met<140+100<H_M', 'inclusive+CMScutv2+met<140+100<H_M<140', 'WP 50', 'WP 40', 'WP 30', 'WP 20', 'WP 10']\n",
    "\n",
    "    selection1.add(\"inclusive\", inclusive)\n",
    "    selection1.add(\"inclusive+CMScut\", cut1)\n",
    "    selection1.add(\"inclusive+CMScut+met<140\", cut2)\n",
    "    selection1.add(\"inclusive+CMScut+met>100\", cut3)\n",
    "    selection1.add(\"inclusive+CMScut+100<met<140\", cut4)\n",
    "    selection1.add(\"inclusive+CMScut+100<met<140+H_M_<140\", cut5)\n",
    "    selection1.add(\"inclusive+CMScut+100<met<140+H_M>100\", cut6)\n",
    "    selection1.add(\"inclusive+CMScut+100<met<140+100<H_M<140\", cut7)\n",
    "    for Work_point, Hcc_Score in zip(WP, D_GN2_Hcc_cut):\n",
    "        selection1.add(\"inclusive+CMScut+100<met<140+100<H_M<140+HCand_Xcc_WP\"+Work_point, cut7 & (events.HCand_XccScore > Hcc_Score))\n",
    "\n",
    "    Nevent.append(events.CMS_Mjj[inclusive])\n",
    "    '''\n",
    "    #print(selection1.names)\n",
    "    #results = {}\n",
    "    for cut, cut_name in zip(cuts[:], selection1.names[:]):\n",
    "        plt.hist(events.CMS_Mjj[cut], bins=100, range=(0,1000), label=cut_name)\n",
    "        #n_events = ak.sum(selection1.all(cut), axis=0)\n",
    "        #results[cut] = n_events\n",
    "    plt.xlabel('CMS_Mjj')\n",
    "    plt.legend()\n",
    "    #cut_results, *_ = dask.compute(results) #'''\n",
    "\n",
    "    \n"
   ]
  },
  {
   "cell_type": "code",
   "execution_count": null,
   "id": "cb862c8e-57ae-4fe6-99dd-b6d49b4d43de",
   "metadata": {},
   "outputs": [],
   "source": [
    "%%time\n",
    "\n",
    "Nevents= dask.compute(Nevent)"
   ]
  },
  {
   "cell_type": "code",
   "execution_count": 65,
   "id": "9793b29a-6687-4b1f-a108-c3ce7ec4051c",
   "metadata": {},
   "outputs": [],
   "source": [
    "x, y, z =  Nevents[0]"
   ]
  },
  {
   "cell_type": "code",
   "execution_count": 70,
   "id": "48d79ef0-cc3e-49a2-b222-13f3a351f189",
   "metadata": {},
   "outputs": [
    {
     "name": "stdout",
     "output_type": "stream",
     "text": [
      "[0. 0. 0. 0. 0. 0. 0. 0. 0. 1. 1. 1. 2. 1. 2. 1. 0. 1. 0. 0. 0. 0. 3. 2.\n",
      " 0. 0. 0. 1. 0. 0. 1. 1. 0. 0. 0. 0. 3. 0. 1. 0. 0. 1. 0. 1. 0. 0. 1. 1.\n",
      " 2. 0. 0. 0. 1. 1. 0. 0. 0. 0. 0. 1. 0. 0. 0. 0. 1. 0. 0. 2. 2. 0. 1. 0.\n",
      " 0. 0. 0. 0. 0. 0. 0. 0. 0. 0. 0. 0. 0. 0. 2. 0. 0. 0. 0. 0. 2. 0. 0. 0.\n",
      " 1. 0. 0. 0.]\n",
      "[1.6906e+04 0.0000e+00 2.0000e+00 1.0000e+01 6.7000e+01 3.9000e+02\n",
      " 1.6820e+03 4.5520e+03 9.6600e+03 1.5331e+04 1.9948e+04 2.3240e+04\n",
      " 2.6138e+04 3.0346e+04 3.5651e+04 4.1437e+04 4.4192e+04 4.3702e+04\n",
      " 4.2318e+04 3.9460e+04 3.6799e+04 3.4294e+04 3.1725e+04 2.8825e+04\n",
      " 2.5636e+04 2.2568e+04 1.9709e+04 1.7763e+04 1.6109e+04 1.5077e+04\n",
      " 1.3916e+04 1.3325e+04 1.2725e+04 1.2059e+04 1.1792e+04 1.1481e+04\n",
      " 1.1096e+04 1.0728e+04 1.0918e+04 1.0488e+04 1.0442e+04 1.0382e+04\n",
      " 1.0165e+04 1.0135e+04 9.8740e+03 9.6260e+03 9.6950e+03 9.3670e+03\n",
      " 9.3640e+03 8.9730e+03 9.0340e+03 8.7800e+03 8.5470e+03 8.4230e+03\n",
      " 8.3420e+03 8.0660e+03 7.9260e+03 7.6100e+03 7.2060e+03 7.2130e+03\n",
      " 6.8630e+03 6.5210e+03 6.4770e+03 6.2440e+03 6.0450e+03 5.7910e+03\n",
      " 5.5420e+03 5.2560e+03 5.1530e+03 5.0010e+03 4.7430e+03 4.6950e+03\n",
      " 4.5670e+03 4.2900e+03 4.0880e+03 3.9810e+03 3.8190e+03 3.9030e+03\n",
      " 3.6440e+03 3.4820e+03 3.3590e+03 3.3780e+03 3.1420e+03 3.1530e+03\n",
      " 3.0370e+03 2.9700e+03 2.8560e+03 2.7790e+03 2.7050e+03 2.5860e+03\n",
      " 2.5630e+03 2.4510e+03 2.4010e+03 2.3540e+03 2.2960e+03 2.2450e+03\n",
      " 2.1840e+03 2.2340e+03 2.1970e+03 2.0480e+03]\n",
      "[1.6906e+04 0.0000e+00 2.0000e+00 1.0000e+01 6.7000e+01 3.9000e+02\n",
      " 1.6820e+03 4.5520e+03 9.6600e+03 1.5332e+04 1.9949e+04 2.3241e+04\n",
      " 2.6140e+04 3.0347e+04 3.5653e+04 4.1438e+04 4.4192e+04 4.3703e+04\n",
      " 4.2318e+04 3.9460e+04 3.6799e+04 3.4294e+04 3.1728e+04 2.8827e+04\n",
      " 2.5636e+04 2.2568e+04 1.9709e+04 1.7764e+04 1.6109e+04 1.5077e+04\n",
      " 1.3917e+04 1.3326e+04 1.2725e+04 1.2059e+04 1.1792e+04 1.1481e+04\n",
      " 1.1099e+04 1.0728e+04 1.0919e+04 1.0488e+04 1.0442e+04 1.0383e+04\n",
      " 1.0165e+04 1.0136e+04 9.8740e+03 9.6260e+03 9.6960e+03 9.3680e+03\n",
      " 9.3660e+03 8.9730e+03 9.0340e+03 8.7800e+03 8.5480e+03 8.4240e+03\n",
      " 8.3420e+03 8.0660e+03 7.9260e+03 7.6100e+03 7.2060e+03 7.2140e+03\n",
      " 6.8630e+03 6.5210e+03 6.4770e+03 6.2440e+03 6.0460e+03 5.7910e+03\n",
      " 5.5420e+03 5.2580e+03 5.1550e+03 5.0010e+03 4.7440e+03 4.6950e+03\n",
      " 4.5670e+03 4.2900e+03 4.0880e+03 3.9810e+03 3.8190e+03 3.9030e+03\n",
      " 3.6440e+03 3.4820e+03 3.3590e+03 3.3780e+03 3.1420e+03 3.1530e+03\n",
      " 3.0370e+03 2.9700e+03 2.8580e+03 2.7790e+03 2.7050e+03 2.5860e+03\n",
      " 2.5630e+03 2.4510e+03 2.4030e+03 2.3540e+03 2.2960e+03 2.2450e+03\n",
      " 2.1850e+03 2.2340e+03 2.1970e+03 2.0480e+03]\n"
     ]
    },
    {
     "data": {
      "image/png": "[encoded data removed]",
      "text/plain": [
       "<Figure size 640x480 with 1 Axes>"
      ]
     },
     "metadata": {},
     "output_type": "display_data"
    }
   ],
   "source": [
    "from hist.dask import Hist\n",
    "import hist\n",
    "\n",
    "h = Hist(hist.axis.Regular(10, 0.0, 1000, name=\"CMSMjj\"))\n",
    "mass_hist = hist.new.Reg(100, 0, 1000, name='mass', label=\"$m_{jj}$ [GeV]\")\n",
    "#mass_hist.Weight().fill(Nevents[0][0])\n",
    "tot_hist = np.zeros(100)\n",
    "for event in Nevents[0]:\n",
    "    histo, edges, _ = plt.hist(event, bins=100, range=(0,1000))\n",
    "    tot_hist += plt.hist(event, bins=100, range=(0,1000))[0]\n",
    "    print(histo)\n",
    "print(tot_hist)"
   ]
  },
  {
   "cell_type": "code",
   "execution_count": 174,
   "id": "7e2fdc47-871f-4e6a-83e6-de022d06f683",
   "metadata": {},
   "outputs": [
    {
     "name": "stdout",
     "output_type": "stream",
     "text": [
      "{'inclusive': 23011, 'inclusive+CMScut': 795, 'inclusive+CMScut+met_upper': 718, 'inclusive+CMScut+met_lower': 176, 'inclusive+CMScut+met': 99, 'inclusive+CMScut+met+HCand_M_upper': 75, 'inclusive+CMScut+met+HCand_M_lower': 66, 'inclusive+CMScut+met+HCand_M': 42, 'inclusive+CMScut+met+HCand_M+HCand_Xcc_WP10%': 0, 'inclusive+CMScut+met+HCand_M+HCand_Xcc_WP20%': 0, 'inclusive+CMScut+met+HCand_M+HCand_Xcc_WP30%': 0, 'inclusive+CMScut+met+HCand_M+HCand_Xcc_WP40%': 1, 'inclusive+CMScut+met+HCand_M+HCand_Xcc_WP50%': 1, 'inclusive+CMScut+met+HCand_M+HCand_Xcc_WP60%': 3}\n",
      "Events passing 'inclusive': 23011\n",
      "Events passing 'inclusive+CMScut': 795\n",
      "Events passing 'inclusive+CMScut+met_upper': 718\n",
      "Events passing 'inclusive+CMScut+met_lower': 176\n",
      "Events passing 'inclusive+CMScut+met': 99\n",
      "Events passing 'inclusive+CMScut+met+HCand_M_upper': 75\n",
      "Events passing 'inclusive+CMScut+met+HCand_M_lower': 66\n",
      "Events passing 'inclusive+CMScut+met+HCand_M': 42\n",
      "Events passing 'inclusive+CMScut+met+HCand_M+HCand_Xcc_WP10%': 0\n",
      "Events passing 'inclusive+CMScut+met+HCand_M+HCand_Xcc_WP20%': 0\n",
      "Events passing 'inclusive+CMScut+met+HCand_M+HCand_Xcc_WP30%': 0\n",
      "Events passing 'inclusive+CMScut+met+HCand_M+HCand_Xcc_WP40%': 1\n",
      "Events passing 'inclusive+CMScut+met+HCand_M+HCand_Xcc_WP50%': 1\n",
      "Events passing 'inclusive+CMScut+met+HCand_M+HCand_Xcc_WP60%': 3\n"
     ]
    }
   ],
   "source": [
    "for cut in selection1.names:\n",
    "    for cut, cut_name in zip(cuts[:], selection1.names[:])\n",
    "    n_events = ak.sum(selection1.all(cut), axis=0)\n",
    "    results[cut] = n_events\n",
    "cut_results, *_ = dask.compute(results)\n",
    "print(cut_results)\n",
    "for cut, n_events in cut_results.items():\n",
    "    print(f\"Events passing '{cut}': {n_events}\")"
   ]
  },
  {
   "cell_type": "code",
   "execution_count": 43,
   "id": "f30201eb-d990-4830-8e4b-3d289ffc6474",
   "metadata": {},
   "outputs": [
    {
     "data": {
      "text/plain": [
       "718"
      ]
     },
     "execution_count": 43,
     "metadata": {},
     "output_type": "execute_result"
    }
   ],
   "source": [
    "ak.sum(selection.all('inclusive', 'CMScutv2', 'met_upper'), axis=0).compute()"
   ]
  },
  {
   "cell_type": "code",
   "execution_count": 19,
   "id": "55bc7368-aa7f-48b7-b3fc-3b4f99840c8f",
   "metadata": {},
   "outputs": [
    {
     "data": {
      "image/png": "[encoded data removed]",
      "text/plain": [
       "<Figure size 640x480 with 1 Axes>"
      ]
     },
     "metadata": {},
     "output_type": "display_data"
    }
   ],
   "source": [
    "plv = events.passLeptonVeto.compute()\n",
    "#events.CMS_Mjj[plv].compute()\n",
    "CMS_mjj = events.CMS_Mjj.compute()\n",
    "#ak.max(CMS_mjj)\n",
    "plt.hist(CMS_mjj, bins=100, range=(0, 1000))\n",
    "plt.show()"
   ]
  },
  {
   "cell_type": "code",
   "execution_count": 199,
   "id": "b81f03f7-73b6-438e-aab3-a20f710fc3d6",
   "metadata": {},
   "outputs": [
    {
     "data": {
      "image/png": "[encoded data removed]",
      "text/plain": [
       "<Figure size 640x480 with 1 Axes>"
      ]
     },
     "metadata": {},
     "output_type": "display_data"
    }
   ],
   "source": [
    "plt.hist(events.CMS_Mjj[inclusive].compute(), bins=100, range=(0,1000))\n",
    "plt.show()"
   ]
  },
  {
   "cell_type": "code",
   "execution_count": 193,
   "id": "74f5ad7f-95bd-4cc9-a7e3-4894025df311",
   "metadata": {},
   "outputs": [
    {
     "name": "stdout",
     "output_type": "stream",
     "text": [
      "['inclusive', 'CMScutv2', 'met_upper', 'met_lower', 'HCandM_upper', 'HCandM_lower', 'HCand_XccScore_1851', 'HCand_XccScore_2319', 'HCand_XccScore_2810', 'HCand_XccScore_3352', 'HCand_XccScore_4050']\n"
     ]
    }
   ],
   "source": [
    "selection = PackedSelection()\n",
    "\n",
    "inclusive = (events.Jet1_pT > 450) & (events.Jet1_M > 40) & (events.passLeptonVeto == True)\n",
    "CMScutv2 = events.CMScutv2 == True\n",
    "met_upper = events.met < 140\n",
    "met_lower = events.met > 100\n",
    "HCandM_upper = events.HCand_M < 140\n",
    "HCandM_lower = events.HCand_M > 100\n",
    "HCand_XccScore_1851 = events.HCand_XccScore > 1.851\n",
    "HCand_XccScore_2319 = events.HCand_XccScore > 2.319\n",
    "HCand_XccScore_2810 = events.HCand_XccScore > 2.810\n",
    "HCand_XccScore_3352 = events.HCand_XccScore > 3.352\n",
    "HCand_XccScore_4050 = events.HCand_XccScore > 4.050\n",
    "Jet2_cut = (events.Jet2_pT > 200) & (events.Jet2_M > 40) & (events.nSmallRJets > 0)\n",
    "\n",
    "\n",
    "selection.add(\"inclusive\", inclusive)\n",
    "selection.add(\"CMScutv2\", CMScutv2)\n",
    "selection.add(\"met_upper\", met_upper)\n",
    "selection.add(\"met_lower\", met_lower)\n",
    "selection.add(\"HCandM_upper\", HCandM_upper)\n",
    "selection.add(\"HCandM_lower\", HCandM_lower)\n",
    "selection.add(\"HCand_XccScore_1851\", HCand_XccScore_1851)\n",
    "selection.add(\"HCand_XccScore_2319\", HCand_XccScore_2319)\n",
    "selection.add(\"HCand_XccScore_2810\", HCand_XccScore_2810)\n",
    "selection.add(\"HCand_XccScore_3352\", HCand_XccScore_3352)\n",
    "selection.add(\"HCand_XccScore_4050\", HCand_XccScore_4050)\n",
    "print(selection.names)\n"
   ]
  }
 ],
 "metadata": {
  "kernelspec": {
   "display_name": "Python 3 (ipykernel)",
   "language": "python",
   "name": "python3"
  },
  "language_info": {
   "codemirror_mode": {
    "name": "ipython",
    "version": 3
   },
   "file_extension": ".py",
   "mimetype": "text/x-python",
   "name": "python",
   "nbconvert_exporter": "python",
   "pygments_lexer": "ipython3",
   "version": "3.8.10"
  }
 },
 "nbformat": 4,
 "nbformat_minor": 5
}
