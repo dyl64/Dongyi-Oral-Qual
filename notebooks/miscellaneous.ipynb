{
 "cells": [
  {
   "cell_type": "markdown",
   "id": "2da9b9be-db1d-4216-9396-91a3045d9d28",
   "metadata": {},
   "source": [
    "[How to write academic paper with jupyter notebook](https://sylvaindeville.net/2015/07/17/writing-academic-papers-in-plain-text-with-markdown-and-jupyter-notebook/)"
   ]
  }
 ],
 "metadata": {
  "kernelspec": {
   "display_name": "Python 3 (ipykernel)",
   "language": "python",
   "name": "python3"
  },
  "language_info": {
   "codemirror_mode": {
    "name": "ipython",
    "version": 3
   },
   "file_extension": ".py",
   "mimetype": "text/x-python",
   "name": "python",
   "nbconvert_exporter": "python",
   "pygments_lexer": "ipython3",
   "version": "3.8.10"
  }
 },
 "nbformat": 4,
 "nbformat_minor": 5
}
