{
 "cells": [
  {
   "cell_type": "markdown",
   "id": "c645f812-da2c-4781-a4bf-5b27da35dd8f",
   "metadata": {},
   "source": [
    "## Import necessary libraries"
   ]
  },
  {
   "cell_type": "code",
   "execution_count": 1,
   "id": "524cde8b-7a43-4034-941c-dd6db451a634",
   "metadata": {},
   "outputs": [],
   "source": [
    "from pathlib import Path\n",
    "import numpy as np\n",
    "\n",
    "from matplotlib import pyplot as plt\n",
    "import awkward as ak\n",
    "import dask\n",
    "from hist.dask import Hist\n",
    "from coffea.nanoevents import NanoEventsFactory, PHYSLITESchema, BaseSchema\n",
    "from coffea.analysis_tools import PackedSelection\n",
    "import mplhep\n",
    "import uproot\n",
    "import coffea.nanoevents\n",
    "\n",
    "PHYSLITESchema.warn_missing_crossrefs = False"
   ]
  },
  {
   "cell_type": "code",
   "execution_count": 2,
   "id": "7e220cc9-04db-4be7-9909-0229a4216150",
   "metadata": {},
   "outputs": [
    {
     "name": "stdout",
     "output_type": "stream",
     "text": [
      "# numpy: v1.24.3\n",
      "# awkward: v2.6.7\n",
      "# uproot: v5.3.10\n",
      "# coffea: v2024.8.0\n",
      "# dask: v2023.5.0\n"
     ]
    }
   ],
   "source": [
    "from importlib.metadata import version\n",
    "\n",
    "for package in [\"numpy\", \"awkward\", \"uproot\", \"coffea\", \"dask\"]:\n",
    "    print(f\"# {package}: v{version(package)}\")"
   ]
  },
  {
   "cell_type": "markdown",
   "id": "97b6e358-1607-4b4e-9899-af4cf5cdb2bb",
   "metadata": {},
   "source": [
    "## Use NanoEventsFactory in coffea to import root file"
   ]
  },
  {
   "cell_type": "code",
   "execution_count": 2,
   "id": "a50d0417-cb5d-45cd-bfe7-a402dd956051",
   "metadata": {},
   "outputs": [],
   "source": [
    "# s3df file path\n",
    "#file_path = \"/fs/ddn/sdf/group/ldmx/users/dongyi/Higgs/evttree-mc23_13p6TeV.801169.Py8EG_A14NNPDF23LO_jj_JZ4.deriv.DAOD_PHYS.e8514_s4159_r14799_p5855.root\"\n",
    "# uchicago file path\n",
    "file_path = \"/data/dliu64/Higgs_analysis/evttree-mc23_13p6TeV.801169.Py8EG_A14NNPDF23LO_jj_JZ4.deriv.DAOD_PHYS.e8514_s4159_r14799_p5855.root\"\n",
    "file_path=f\"{file_path}{':evttree'}\""
   ]
  },
  {
   "cell_type": "code",
   "execution_count": 3,
   "id": "fed018d1-083d-4349-a0d0-ff958d267a0b",
   "metadata": {},
   "outputs": [],
   "source": [
    "def filter_name(name):\n",
    "    return name in [\n",
    "        'HLT_j420_L1J100',\n",
    "        'fatJetGN2XHbb', 'fatJetGN2XHcc', \n",
    "        'fatJetGN2XQCD', 'fatJetPt',\n",
    "        'fatJetPx', 'fatJetPy',\n",
    "        'fatJetPz', 'fatJetE',\n",
    "        'fatJetM', 'fatJetNCHadrons', \n",
    "        'fatJetNBHadrons', 'vrJetIdFatJet', \n",
    "        'vrJetHadronGhostTruthLabelID', 'vrJetPt', \n",
    "        'vrJetM', 'eventMCWeight'\n",
    "    ]"
   ]
  },
  {
   "cell_type": "code",
   "execution_count": 4,
   "id": "b722256e-7cf7-4000-a3a7-e282f967631c",
   "metadata": {},
   "outputs": [],
   "source": [
    "events = NanoEventsFactory.from_root(\n",
    "    file_path,\n",
    "    schemaclass=BaseSchema,\n",
    "    uproot_options=dict(filter_name=filter_name),\n",
    "    delayed=True,\n",
    ").events()"
   ]
  }
 ],
 "metadata": {
  "kernelspec": {
   "display_name": "Python 3 (ipykernel)",
   "language": "python",
   "name": "python3"
  },
  "language_info": {
   "codemirror_mode": {
    "name": "ipython",
    "version": 3
   },
   "file_extension": ".py",
   "mimetype": "text/x-python",
   "name": "python",
   "nbconvert_exporter": "python",
   "pygments_lexer": "ipython3",
   "version": "3.8.10"
  }
 },
 "nbformat": 4,
 "nbformat_minor": 5
}
