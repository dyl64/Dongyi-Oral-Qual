{
 "cells": [
  {
   "cell_type": "markdown",
   "id": "b8c55058-c84c-4a5d-bb40-d95d79522d3b",
   "metadata": {
    "jp-MarkdownHeadingCollapsed": true
   },
   "source": [
    "## Import libraries"
   ]
  },
  {
   "cell_type": "code",
   "execution_count": 18,
   "id": "d0735cfb-686d-4581-a6fd-94531dc401c6",
   "metadata": {},
   "outputs": [
    {
     "data": {
      "text/plain": [
       "'/home/dliu64/Dongyi-Oral-Qual/notebooks'"
      ]
     },
     "execution_count": 18,
     "metadata": {},
     "output_type": "execute_result"
    }
   ],
   "source": [
    "import sys\n",
    "%pwd"
   ]
  },
  {
   "cell_type": "code",
   "execution_count": 2,
   "id": "d5665be7-ff93-4845-9ca1-7c5014e75652",
   "metadata": {},
   "outputs": [],
   "source": [
    "from pathlib import Path\n",
    "import numpy as np\n",
    "\n",
    "from matplotlib import pyplot as plt\n",
    "import awkward as ak\n",
    "import dask\n",
    "from hist.dask import Hist\n",
    "from coffea.nanoevents import NanoEventsFactory, PHYSLITESchema, BaseSchema\n",
    "from coffea.analysis_tools import PackedSelection\n",
    "import mplhep\n",
    "import uproot\n",
    "import coffea.nanoevents\n",
    "import math\n",
    "\n",
    "PHYSLITESchema.warn_missing_crossrefs = False"
   ]
  },
  {
   "cell_type": "markdown",
   "id": "09cce464-99de-44b2-93e3-e8f40dbcc3f5",
   "metadata": {},
   "source": [
    "\n",
    "$\\mathcal{L}=\\frac{1}{2}(\\partial_\\mu\\phi)(\\partial^\\mu\\phi)-\\frac{1}{2}m^2\\phi^2$\n",
    "$$\\mathcal{L}=\\bar{\\psi}(i\\gamma^\\mu\\partial_\\mu-m)\\psi$$\n",
    "$\\psi\\rightarrow e^{i\\alpha(x)}\\psi$\n",
    "$$\\mathcal{L}=\\bar{\\psi}(i\\gamma^\\mu D_\\mu-m)\\psi$$\n",
    "$D_\\mu=\\partial_\\mu+ieA_\\mu(x)$\n",
    "\n",
    "<font color='red'>$V(\\phi)$</font>\n",
    "$V(\\phi)$\n",
    "$$V(\\phi)=\\frac{1}{2}\\mu^2\\phi^2+\\frac{\\lambda}{4!}\\phi^4$$\n",
    "$\\phi\\rightarrow-\\phi$\n",
    "$$\\phi\\rightarrow v+\\eta$$\n",
    "$V(\\eta)=-\\frac{\\lambda}{12}v^4+\\frac{\\lambda v^2}{6}\\eta^2+\\frac{\\lambda v}{6}\\eta^3+\\frac{\\lambda}{24}\\eta^4$"
   ]
  },
  {
   "cell_type": "markdown",
   "id": "b117732a-77e3-4f47-859f-e05a9acb95c5",
   "metadata": {},
   "source": [
    "## Standard Model"
   ]
  },
  {
   "cell_type": "markdown",
   "id": "b71b56e2-c817-42db-af77-8ebfb148f405",
   "metadata": {},
   "source": [
    "The formular of Standard model Lagrangian has been given on the [standard-model-mug](https://visit.cern/sites/default/files/inline-images/P1055164.JPG)\n",
    "$$\\mathcal{L}=\\bar{\\psi}(i\\gamma^\\mu\\partial_\\mu-m)\\psi$$\n",
    "\\begin{aligned}\n",
    "\\mathcal{L}=&-\\frac{1}{4}F_{\\mu\\nu}F^{\\mu\\nu}\\\\\n",
    "&+i\\bar{\\psi}\\not D\\psi\\\\\n",
    "&+\\psi_iy_{ij}\\psi_j\\phi+h.c.\\\\\n",
    "&+|D_\\mu\\phi|^2-V(\\phi)\\\\\n",
    "\\end{aligned}\n",
    "[standard model explained in cms page](https://home.cern/science/physics/standard-model)"
   ]
  },
  {
   "cell_type": "markdown",
   "id": "d1579c41-5b2a-46dd-9a9a-d020eaa3c87b",
   "metadata": {},
   "source": [
    "### Further reading"
   ]
  },
  {
   "cell_type": "markdown",
   "id": "7552fd5b-41a0-4e95-8d46-bb44b1e1d210",
   "metadata": {},
   "source": [
    "[Let's have a coffee with the SM](https://iopscience.iop.org/article/10.1088/1361-6552/aa5b25/pdf )"
   ]
  },
  {
   "cell_type": "markdown",
   "id": "706ed18f-f52b-4f7d-bd15-fbbabb05e7d3",
   "metadata": {},
   "source": [
    "## Gauge symmetry"
   ]
  },
  {
   "cell_type": "markdown",
   "id": "5ec617f6-dd96-43ea-9d64-8021267d7dfa",
   "metadata": {},
   "source": [
    "1. What is symmetry?\n",
    "\n",
    "   Lagrangian is invariant under a certain transformation. Specifically, for the gauge symmetry, Lagrangian should invariant under gauge transformation.\n",
    "\n",
    "2. What does Lagrangian for the spinor field look like?\n",
    "   $$\\mathcal{L}=\\bar{\\psi}(i\\gamma^\\mu\\partial_\\mu-m)\\psi$$\n",
    "3. What is gauge transformation?\n",
    "   There're two types of gauge transformation:\n",
    "   - Global gauge transformation $\\psi\\rightarrow e^{i\\alpha}\\psi$\n",
    "     \n",
    "     <img src=\"../slides_plots/global_gauge_transformation.png\" width=\"200\">\n",
    "   - Local gauge transformation $\\psi\\rightarrow e^{i\\alpha(x)}\\psi$\n",
    "     \n",
    "     <img src=\"../slides_plots/local_gauge_transformation.png\" width=\"200\">\n",
    "\n",
    "    Specifically, global gauge transformation means that we change the phase by the same amount *everywhere* in spacetime where as in local gauge transformation the phase change is dependent on spacetime. $\\mathcal{L}$ is naturally invariant under the global transformation since $\\mathcal{L}\\rightarrow(e^{-i\\alpha}\\bar{\\psi})(i\\gamma^\\mu\\partial_\\mu-m)(e^{i\\alpha}\\psi)$. However, *free* Dirac $\\mathcal{L}$ is not necessarily invariant under the local transformation. So we are obliged to *add* some terms to $\\mathcal{L}$.\n",
    "4. How to change Lagrangian so that it can be invariant even under the local gauge transformation?\n",
    "   $$\\mathcal{L}=\\bar{\\psi}(i\\gamma^\\mu D_\\mu-m)\\psi$$\n",
    "   where $D_\\mu$ is **covariant derivative**, defined as $D_\\mu=\\partial_\\mu+ieA_\\mu(x)$, which can preserve L's local gauge symmetry. Because $D_\\mu$ transform exactly the same as $\\psi$ under the local gauge transformation $$D_\\mu\\psi\\rightarrow e^{i\\alpha(x)}D_\\mu\\psi$$\n",
    "\n",
    "   So now, this 'new improved' Lagrangian is now locally invariant. The definition of $D_\\mu$ introduces a new vector field $A_\\mu$. However, this is not the whole story since the *full* Lagrangian must include a 'free' term for the field $A_\\mu$ itself.\n",
    "6. What does the full Lagrangian look like?\n",
    "   $$\\mathcal{L}_{QED}=-\\frac{1}{4}F_{\\mu\\nu}F^{\\mu\\nu}+\\bar{\\psi}(i\\gamma^\\mu D_\\mu-m)\\psi$$\n",
    "   where $F_{\\mu\\nu}=\\partial_\\mu A_\\nu-\\partial_\\nu A_\\mu$, the first term $-\\frac{1}{4}F_{\\mu\\nu}F^{\\mu\\nu}$is the kinetic term of field $A_\\mu$.\n",
    "   \n",
    "   Note: the new field $A_\\mu$ has to be massless, otherwise the invariance will be lost. Thus, **U(1) local gauge symmetry requires the vector field $A_\\mu$ to be massless, which correspond to photon as a massless gauge boson.**\n",
    "\n",
    "   In conclusion, if we start with the Dirac Lagrangian and demand *local* phase invariance, we are forced to introduce a massless vector field $A_\\mu$.\n",
    "\n",
    "   Similarly, Lagrangian for QCD looks almost the same as the one for QED\n",
    "   $$\\mathcal{L}_{QCD}=-\\frac{1}{4}F_{\\mu\\nu}^aF^{\\mu\\nu a}+\\sum_{flavours f}\\bar{\\Psi}_f(i\\gamma^\\mu D_\\mu-m_f)\\Psi_f$$\n",
    "   Thus, both $\\mathcal{L}_{QCD}$ and $\\mathcal{L}_{QED}$ are invariant under the local gauge symmetry. The corresponding massless gauge bosons are **gluons** for strong interactions and **photon** for EM interactions. But that's not the case for weak interactions since gauge bosons $W^\\pm$, and $Z$ are massive. Does it mean that Lagrangian for weak interaction is not locally phase invariant? How can we explain the the massive gauge bosons for weak interaction? "
   ]
  },
  {
   "cell_type": "markdown",
   "id": "aa29f750-6223-4a8b-93cd-be49b179fe24",
   "metadata": {},
   "source": [
    "## Spontaneous Symmetry Breaking"
   ]
  },
  {
   "cell_type": "markdown",
   "id": "4e90059a-a0fc-420b-a4b5-69612072eb42",
   "metadata": {
    "jp-MarkdownHeadingCollapsed": true
   },
   "source": [
    "### What causes Spontaneous Symmetry Breaking (SSB)?"
   ]
  },
  {
   "cell_type": "markdown",
   "id": "1411eabf-8f48-4530-91ea-df2ba35ba6d1",
   "metadata": {},
   "source": [
    "When the energy minimum doesn't share the symmetry of Lagrangian, the SSB happens. The reason why 'spontaneous' is that no external agency is responsible for this symmetry breaking. For example, a thin plastic strip (or a short ruler): if you squeeze the ends together it will snap into a curved configuration, but it can just as well buckle to the left as to the right - both are ground states for the system. and either one breaks the left-right symmetry. Another great example of SSB is that when the temperature drops below the critical temperature $T_C$, the magnetic field will be all up or down to achieve the energy minimum, which is one of the most important properties of ferromagnet."
   ]
  },
  {
   "cell_type": "markdown",
   "id": "a564ccfb-1781-4034-814b-12752092222e",
   "metadata": {
    "jp-MarkdownHeadingCollapsed": true
   },
   "source": [
    "### Real scalar field $\\phi$"
   ]
  },
  {
   "cell_type": "markdown",
   "id": "05804ee6-d0d7-4b0c-bd33-ab73a093b432",
   "metadata": {},
   "source": [
    "For the real scalar field $\\phi$, its Lagrangian can be expressed as follows\n",
    "$$\\mathcal{L}=\\frac{1}{2}(\\partial_\\mu\\phi)(\\partial^\\mu\\phi)-\\frac{1}{2}m^2\\phi^2$$\n",
    "where $\\frac{1}{2}m^2\\phi^2$ is the potential $V(\\phi)$ and the coefficient in front of $\\phi^2$ is the mass term.\n",
    "\n",
    "Consider the following potential\n",
    "\\begin{equation}\\tag{Eq 1.1}\n",
    "V(\\phi)=\\frac{1}{2}\\mu^2\\phi^2+\\frac{\\lambda}{4!}\\phi^4\n",
    "\\end{equation}\n",
    "Apparently, Lagrangian has a discrete symmetry (Z2 symmerty) under the transformation of $\\phi\\rightarrow-\\phi$. But the shape of potential $V(\\phi)$ in terms of $\\phi$ can be different with different sign of $\\mu^2$. Now let's plot $V(\\phi)$ with two cases of $\\mu^2>0$ and $\\mu^2<0$.\n",
    "\n",
    "With $\\mu^2>0$, the minimum of the potential is at the origin. With $\\mu^2<0$, the potential has a W shape with two local minima at $\\phi=\\pm\\sqrt{\\frac{6}{\\lambda}}|\\mu|$. This constant is named vacuum expectation value (vev). The ground state has two degeneracy. In the case of $\\mu^2<0$, the corresponding $\\mathcal{L}$ doesn't make sense as well since the mass is imaginary. To solve this issue, we expand $V(\\phi)$ at vev. $\\phi=v+\\eta$, where $v$ is vev, and $\\eta$ is a new field. Replace $\\phi$ with $\\eta$ and re-express $V$ in terms of $\\eta$.\n",
    "\\begin{equation}\\tag{Eq 1.2}\n",
    "V(\\eta)=-\\frac{\\lambda}{12}v^4+\\frac{\\lambda v^2}{6}\\eta^2+\\frac{\\lambda v}{6}\\eta^3+\\frac{\\lambda}{24}\\eta^4\n",
    "\\end{equation}\n",
    "$-\\frac{\\lambda}{12}v^4$ is a constant, which is not important in potential (potential is a relative value not a absolute value). The second term $\\frac{\\lambda v^2}{6}\\eta^2$ tells us that the mass of $\\eta$ is $\\sqrt{\\frac{2\\lambda v^2}{3}}$. While the last two terms are self interaction of $\\eta$, corresponding to the following feynman diagrams.\n",
    "<img src=\"../slides_plots/scalar_field_self_interaction_3legs.png\" width=\"100\"> <img src=\"../slides_plots/scalar_field_self_interaction_4legs.png\" width=\"100\">\n",
    "\n",
    "Note \\ref{Vphi} represents exactly the same physical system as \\ref{Veta} does. Both equations describe same potential, just from different perspectives. The physical meaning of expanding the potential at vev is that the field spontaneously pick one of the ground states, and thus breaking the symmetry, since $V(\\phi)$ isn't invariant under the transformation of $\\eta\\rightarrow-\\eta$.\n",
    "\n",
    "**Conclusion**:\n",
    "This is the standard procedure of spontaneous symmetry breaking. First, locate the ground state (the field configuration for which $V(\\phi)$ is a minimum) and re-express $V$ as a function of the $\\eta$ and get the corresponding mass term and related self interaction terms.\n",
    "\n",
    "What's the requirement of SSB? the 'vacuum' doesn't share the symmetry of the Lagrangian."
   ]
  },
  {
   "cell_type": "markdown",
   "id": "767c2d3c-7b70-4b3e-9b92-c424533aa6a5",
   "metadata": {
    "jp-MarkdownHeadingCollapsed": true
   },
   "source": [
    "#### W-shape potential plots\n"
   ]
  },
  {
   "cell_type": "code",
   "execution_count": 38,
   "id": "4adc1501-5e07-4b70-90fe-0e3493ac2c3c",
   "metadata": {},
   "outputs": [
    {
     "data": {
      "image/png": "[encoded data removed]",
      "text/plain": [
       "<Figure size 500x500 with 1 Axes>"
      ]
     },
     "metadata": {},
     "output_type": "display_data"
    }
   ],
   "source": [
    "x = np.arange(-3, 3, .001)\n",
    "mu2 = 4\n",
    "lamda=24\n",
    "vev = 6*mu2/lamda\n",
    "V_min = -3*mu2**2/2/lamda\n",
    "y_pos = mu2/2 * x**2 + lamda/math.factorial(4) * x**4\n",
    "y_neg = -mu2/2 * x**2 + lamda/math.factorial(4) * x**4\n",
    "fig, ax = plt.subplots(figsize=(5, 5))\n",
    "\n",
    "ax.plot(x, y_neg, label=r'$\\mu^2<0$', linewidth=2)\n",
    "ax.plot(x, y_pos, label=r'$\\mu^2>0$', linewidth=2)\n",
    "#ax.scatter([np.sqrt(vev),-np.sqrt(vev)], [V_min,V_min], marker='o', s=500, color='red')\n",
    "ax.set_ylim(-3,10)\n",
    "ax.set_xlim(-2, 2)\n",
    "\n",
    "# Set bottom and left spines as x and y axes of coordinate system\n",
    "ax.spines['bottom'].set_position('zero')\n",
    "ax.spines['bottom'].set_linewidth(1)\n",
    "ax.spines['left'].set_position(('data', 0))\n",
    "ax.spines['left'].set_linewidth(1)\n",
    "\n",
    "# Remove top and right spines\n",
    "ax.spines['top'].set_visible(False)\n",
    "ax.spines['right'].set_visible(False)\n",
    "#ax.spines['bottom'].set_visible(False)\n",
    "#ax.spines['left'].set_visible(False)\n",
    "\n",
    "# Draw arrows\n",
    "arrow_fmt = dict(markersize=12, color='black', clip_on=False)\n",
    "ax.plot((1), (0), marker='>', transform=ax.get_yaxis_transform(), **arrow_fmt)\n",
    "ax.plot((0), (1), marker='^', transform=ax.get_xaxis_transform(), **arrow_fmt)\n",
    "\n",
    "# Create 'x' and 'y' labels placed at the end of the axes\n",
    "ax.set_xlabel(r'$\\phi$', size=20, labelpad=-30, x=.99)\n",
    "ax.set_ylabel(r'$V(\\phi)$', size=20, labelpad=-30, y=.98, rotation=0)\n",
    "\n",
    "# Get rid of ticks\n",
    "ax.set_yticks([])\n",
    "ax.set_xticks([])\n",
    "\n",
    "ax.legend(bbox_to_anchor=(.75, .98))\n",
    "#plt.savefig('../slides_plots/SSB_real_scalar_field.jpg')\n",
    "\n",
    "plt.show()"
   ]
  },
  {
   "cell_type": "markdown",
   "id": "ba00364b-fdf3-4ab6-825e-60899770cefb",
   "metadata": {},
   "source": [
    "### Complex scalar field $\\phi$"
   ]
  },
  {
   "cell_type": "markdown",
   "id": "5862d2ca-134f-4148-96f7-8221e0e89bfa",
   "metadata": {},
   "source": [
    "For a complex scalar field $\\phi$, the Lagrangian is\n",
    "$$\\mathcal{L}=\\frac{1}{2}(\\partial_\\mu\\phi)^*(\\partial^\\mu\\phi)-\\frac{1}{2}m^2|\\phi|^2$$\n",
    "$$V(\\phi)=\\frac{1}{2}\\mu^2\\phi^*\\phi+\\frac{\\lambda}{4!}(\\phi^*\\phi)^2$$\n"
   ]
  },
  {
   "cell_type": "markdown",
   "id": "fbb40d7e-c00a-4b25-a12d-129b01cdc8a3",
   "metadata": {},
   "source": [
    "### Further Reading"
   ]
  },
  {
   "cell_type": "markdown",
   "id": "e75c4c20-9028-4b14-878a-5ae1731483c0",
   "metadata": {},
   "source": [
    "- [Introduction to SSB](https://arxiv.org/pdf/1909.01820)\n",
    "- [what's the connection between SSB and ground state degeneracy](https://physics.stackexchange.com/questions/822590/spontaneous-symmetry-breaking-versus-degenerate-excitations-in-gapless-quantum-s)\n",
    "- [time-reversal symmetry](https://physics.stackexchange.com/questions/131161/spontaneous-symmetry-breaking-and-time-reversal-symmetry)"
   ]
  },
  {
   "cell_type": "markdown",
   "id": "0fcfccb1-0003-47e6-abb2-81c998a4f692",
   "metadata": {},
   "source": [
    "## Higgs Mechanism"
   ]
  },
  {
   "cell_type": "markdown",
   "id": "8346bfc6-4b48-4c58-8900-86cac15ec244",
   "metadata": {},
   "source": [
    "A *massless* vector field carries 2 degrees of freedom (transverse polarizations). When $A_\\mu$ acquired mass, it picks up a third (longitudinal polarization). The extra degree of freedom comes from the Goldstone boson. The massless gauge field 'ate' the Goldstone boson to become massive. This is the famous Higgs mechanism, combine local gauge invariance and spontaneous symmetry breaking together."
   ]
  },
  {
   "cell_type": "markdown",
   "id": "521a2bf2-105e-4f68-828b-c5b2844428e1",
   "metadata": {},
   "source": [
    "### Further reading"
   ]
  },
  {
   "cell_type": "markdown",
   "id": "7e2cb970-196d-45b3-95fb-79a5bf67f1b9",
   "metadata": {},
   "source": [
    "[Higgs Mechanism](https://www.theorie.physik.uni-muenchen.de/lsfrey/teaching/archiv/sose_09/rng/higgs_mechanism.pdf)"
   ]
  }
 ],
 "metadata": {
  "kernelspec": {
   "display_name": "Python 3 (ipykernel)",
   "language": "python",
   "name": "python3"
  },
  "language_info": {
   "codemirror_mode": {
    "name": "ipython",
    "version": 3
   },
   "file_extension": ".py",
   "mimetype": "text/x-python",
   "name": "python",
   "nbconvert_exporter": "python",
   "pygments_lexer": "ipython3",
   "version": "3.8.10"
  }
 },
 "nbformat": 4,
 "nbformat_minor": 5
}
